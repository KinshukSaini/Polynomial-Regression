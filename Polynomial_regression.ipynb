{
 "cells": [
  {
   "cell_type": "code",
   "execution_count": 2,
   "metadata": {},
   "outputs": [],
   "source": [
    "import pandas as pd\n",
    "import matplotlib.pyplot as plt\n",
    "import numpy as np\n",
    "%matplotlib inline     "
   ]
  },
  {
   "cell_type": "code",
   "execution_count": 4,
   "metadata": {},
   "outputs": [
    {
     "data": {
      "text/plain": [
       "<matplotlib.collections.PathCollection at 0x201d524b280>"
      ]
     },
     "execution_count": 4,
     "metadata": {},
     "output_type": "execute_result"
    },
    {
     "data": {
      "image/png": "[encoded data removed]",
      "text/plain": [
       "<Figure size 640x480 with 1 Axes>"
      ]
     },
     "metadata": {},
     "output_type": "display_data"
    }
   ],
   "source": [
    "X = 6 * np.random.rand(100, 1) - 3\n",
    "y = 0.5 * X**2 + 1.5*X + 2 + np.random.rand(100, 1)\n",
    "#quadratic equation used = > y = 0.5x^2 + 1.5x + 2 + outliers\n",
    "plt.scatter(X, y)"
   ]
  },
  {
   "cell_type": "code",
   "execution_count": 5,
   "metadata": {},
   "outputs": [],
   "source": [
    "from sklearn.model_selection import train_test_split\n",
    "X_train, X_test, y_train, y_test = train_test_split(X, y, test_size=0.2, random_state=42)\n"
   ]
  },
  {
   "cell_type": "code",
   "execution_count": 6,
   "metadata": {},
   "outputs": [],
   "source": [
    "#applying polynomial transformation\n",
    "from sklearn.preprocessing import PolynomialFeatures"
   ]
  },
  {
   "cell_type": "code",
   "execution_count": 9,
   "metadata": {},
   "outputs": [],
   "source": [
    "poly = PolynomialFeatures(degree=2, include_bias=True)\n",
    "X_train_poly = poly.fit_transform(X_train)\n",
    "X_test_poly = poly.transform(X_test)"
   ]
  },
  {
   "cell_type": "code",
   "execution_count": 10,
   "metadata": {},
   "outputs": [
    {
     "data": {
      "text/plain": [
       "array([[ 1.00000000e+00,  2.47853326e+00,  6.14312710e+00],\n",
       "       [ 1.00000000e+00,  1.71671659e+00,  2.94711583e+00],\n",
       "       [ 1.00000000e+00,  8.04295598e-01,  6.46891409e-01],\n",
       "       [ 1.00000000e+00,  2.66169703e+00,  7.08463107e+00],\n",
       "       [ 1.00000000e+00, -1.96632961e+00,  3.86645213e+00],\n",
       "       [ 1.00000000e+00,  2.10460671e+00,  4.42936940e+00],\n",
       "       [ 1.00000000e+00, -4.89551969e-01,  2.39661130e-01],\n",
       "       [ 1.00000000e+00,  1.28561100e+00,  1.65279565e+00],\n",
       "       [ 1.00000000e+00,  2.84458581e+00,  8.09166842e+00],\n",
       "       [ 1.00000000e+00,  2.53118355e+00,  6.40689017e+00],\n",
       "       [ 1.00000000e+00, -8.23605250e-01,  6.78325607e-01],\n",
       "       [ 1.00000000e+00,  1.72061826e+00,  2.96052720e+00],\n",
       "       [ 1.00000000e+00,  8.46907846e-01,  7.17252900e-01],\n",
       "       [ 1.00000000e+00, -2.47419689e+00,  6.12165026e+00],\n",
       "       [ 1.00000000e+00, -5.96259116e-01,  3.55524933e-01],\n",
       "       [ 1.00000000e+00,  2.36171096e+00,  5.57767865e+00],\n",
       "       [ 1.00000000e+00,  2.14179877e+00,  4.58730199e+00],\n",
       "       [ 1.00000000e+00, -2.52816909e+00,  6.39163897e+00],\n",
       "       [ 1.00000000e+00, -2.75538981e+00,  7.59217298e+00],\n",
       "       [ 1.00000000e+00,  2.89764668e+00,  8.39635630e+00],\n",
       "       [ 1.00000000e+00, -1.25083902e-01,  1.56459824e-02],\n",
       "       [ 1.00000000e+00,  2.69154670e+00,  7.24442366e+00],\n",
       "       [ 1.00000000e+00, -1.91152110e+00,  3.65391290e+00],\n",
       "       [ 1.00000000e+00,  1.11208279e+00,  1.23672813e+00],\n",
       "       [ 1.00000000e+00, -2.44288422e+00,  5.96768332e+00],\n",
       "       [ 1.00000000e+00, -1.35153287e+00,  1.82664110e+00],\n",
       "       [ 1.00000000e+00, -2.68314408e-01,  7.19926218e-02],\n",
       "       [ 1.00000000e+00,  8.23360175e-01,  6.77921978e-01],\n",
       "       [ 1.00000000e+00, -2.99692718e+00,  8.98157254e+00],\n",
       "       [ 1.00000000e+00,  4.49428920e-01,  2.01986354e-01],\n",
       "       [ 1.00000000e+00, -6.83332198e-01,  4.66942893e-01],\n",
       "       [ 1.00000000e+00, -5.47250684e-01,  2.99483311e-01],\n",
       "       [ 1.00000000e+00, -2.88687623e-01,  8.33405435e-02],\n",
       "       [ 1.00000000e+00, -8.11799034e-01,  6.59017671e-01],\n",
       "       [ 1.00000000e+00, -2.00088551e+00,  4.00354281e+00],\n",
       "       [ 1.00000000e+00, -1.35196204e+00,  1.82780137e+00],\n",
       "       [ 1.00000000e+00,  1.47170462e+00,  2.16591448e+00],\n",
       "       [ 1.00000000e+00, -5.06834488e-01,  2.56881198e-01],\n",
       "       [ 1.00000000e+00, -1.56453975e+00,  2.44778464e+00],\n",
       "       [ 1.00000000e+00,  7.21974833e-01,  5.21247659e-01],\n",
       "       [ 1.00000000e+00, -2.05936781e-01,  4.24099578e-02],\n",
       "       [ 1.00000000e+00, -2.54764699e+00,  6.49050520e+00],\n",
       "       [ 1.00000000e+00, -1.94738225e+00,  3.79229762e+00],\n",
       "       [ 1.00000000e+00, -2.93255174e+00,  8.59985969e+00],\n",
       "       [ 1.00000000e+00,  2.99210973e+00,  8.95272064e+00],\n",
       "       [ 1.00000000e+00,  1.54125153e+00,  2.37545629e+00],\n",
       "       [ 1.00000000e+00, -2.36331087e+00,  5.58523829e+00],\n",
       "       [ 1.00000000e+00, -7.17241440e-01,  5.14435283e-01],\n",
       "       [ 1.00000000e+00, -2.09962018e+00,  4.40840492e+00],\n",
       "       [ 1.00000000e+00, -1.30878096e+00,  1.71290761e+00],\n",
       "       [ 1.00000000e+00,  1.37910896e+00,  1.90194151e+00],\n",
       "       [ 1.00000000e+00,  7.04113562e-01,  4.95775908e-01],\n",
       "       [ 1.00000000e+00,  1.69360039e+00,  2.86828229e+00],\n",
       "       [ 1.00000000e+00,  2.08587567e+00,  4.35087733e+00],\n",
       "       [ 1.00000000e+00, -6.98921537e-01,  4.88491315e-01],\n",
       "       [ 1.00000000e+00, -1.10205106e+00,  1.21451654e+00],\n",
       "       [ 1.00000000e+00, -6.68502809e-02,  4.46896005e-03],\n",
       "       [ 1.00000000e+00, -8.37270074e-02,  7.01021176e-03],\n",
       "       [ 1.00000000e+00, -9.00027028e-01,  8.10048651e-01],\n",
       "       [ 1.00000000e+00, -1.19099122e+00,  1.41846009e+00],\n",
       "       [ 1.00000000e+00,  1.59779976e+00,  2.55296407e+00],\n",
       "       [ 1.00000000e+00,  2.86985411e+00,  8.23606264e+00],\n",
       "       [ 1.00000000e+00, -2.93084998e+00,  8.58988160e+00],\n",
       "       [ 1.00000000e+00,  1.49273258e+00,  2.22825055e+00],\n",
       "       [ 1.00000000e+00, -1.32742066e+00,  1.76204561e+00],\n",
       "       [ 1.00000000e+00,  2.29620498e+00,  5.27255731e+00],\n",
       "       [ 1.00000000e+00,  2.89037857e+00,  8.35428828e+00],\n",
       "       [ 1.00000000e+00,  1.70065440e+00,  2.89222540e+00],\n",
       "       [ 1.00000000e+00,  2.33270242e+00,  5.44150056e+00],\n",
       "       [ 1.00000000e+00, -2.13390418e+00,  4.55354703e+00],\n",
       "       [ 1.00000000e+00,  2.68928773e+00,  7.23226851e+00],\n",
       "       [ 1.00000000e+00,  2.02537025e+00,  4.10212466e+00],\n",
       "       [ 1.00000000e+00,  3.62498916e-01,  1.31405464e-01],\n",
       "       [ 1.00000000e+00, -1.55580385e+00,  2.42052562e+00],\n",
       "       [ 1.00000000e+00,  6.20426239e-01,  3.84928718e-01],\n",
       "       [ 1.00000000e+00,  1.91635716e+00,  3.67242478e+00],\n",
       "       [ 1.00000000e+00, -2.99885521e+00,  8.99313256e+00],\n",
       "       [ 1.00000000e+00,  4.78847976e-01,  2.29295384e-01],\n",
       "       [ 1.00000000e+00, -9.72281423e-01,  9.45331165e-01],\n",
       "       [ 1.00000000e+00, -2.86006607e+00,  8.17997795e+00]])"
      ]
     },
     "execution_count": 10,
     "metadata": {},
     "output_type": "execute_result"
    }
   ],
   "source": [
    "X_train_poly"
   ]
  },
  {
   "cell_type": "code",
   "execution_count": 14,
   "metadata": {},
   "outputs": [
    {
     "data": {
      "text/plain": [
       "0.9910641174189658"
      ]
     },
     "execution_count": 14,
     "metadata": {},
     "output_type": "execute_result"
    }
   ],
   "source": [
    "from sklearn.metrics import r2_score\n",
    "from sklearn.linear_model import LinearRegression\n",
    "regression = LinearRegression()\n",
    "regression.fit(X_train_poly, y_train)\n",
    "y_pred = regression.predict(X_test_poly)\n",
    "score = r2_score(y_test, y_pred)\n",
    "score"
   ]
  },
  {
   "cell_type": "code",
   "execution_count": 15,
   "metadata": {},
   "outputs": [
    {
     "data": {
      "text/plain": [
       "array([[0.        , 1.49866459, 0.51609796]])"
      ]
     },
     "execution_count": 15,
     "metadata": {},
     "output_type": "execute_result"
    }
   ],
   "source": [
    "regression.coef_"
   ]
  },
  {
   "cell_type": "code",
   "execution_count": 25,
   "metadata": {},
   "outputs": [
    {
     "ename": "ValueError",
     "evalue": "X has 1 features, but LinearRegression is expecting 3 features as input.",
     "output_type": "error",
     "traceback": [
      "\u001b[1;31m---------------------------------------------------------------------------\u001b[0m",
      "\u001b[1;31mValueError\u001b[0m                                Traceback (most recent call last)",
      "Cell \u001b[1;32mIn[25], line 1\u001b[0m\n\u001b[1;32m----> 1\u001b[0m plt\u001b[38;5;241m.\u001b[39mscatter(X_test, \u001b[43mregression\u001b[49m\u001b[38;5;241;43m.\u001b[39;49m\u001b[43mpredict\u001b[49m\u001b[43m(\u001b[49m\u001b[43mX_train\u001b[49m\u001b[43m)\u001b[49m)\n\u001b[0;32m      2\u001b[0m plt\u001b[38;5;241m.\u001b[39mscatter(X_train, y_train)\n",
      "File \u001b[1;32me:\\Coding\\ML COURSE\\code\\venv\\lib\\site-packages\\sklearn\\linear_model\\_base.py:306\u001b[0m, in \u001b[0;36mLinearModel.predict\u001b[1;34m(self, X)\u001b[0m\n\u001b[0;32m    292\u001b[0m \u001b[38;5;28;01mdef\u001b[39;00m \u001b[38;5;21mpredict\u001b[39m(\u001b[38;5;28mself\u001b[39m, X):\n\u001b[0;32m    293\u001b[0m \u001b[38;5;250m    \u001b[39m\u001b[38;5;124;03m\"\"\"\u001b[39;00m\n\u001b[0;32m    294\u001b[0m \u001b[38;5;124;03m    Predict using the linear model.\u001b[39;00m\n\u001b[0;32m    295\u001b[0m \n\u001b[1;32m   (...)\u001b[0m\n\u001b[0;32m    304\u001b[0m \u001b[38;5;124;03m        Returns predicted values.\u001b[39;00m\n\u001b[0;32m    305\u001b[0m \u001b[38;5;124;03m    \"\"\"\u001b[39;00m\n\u001b[1;32m--> 306\u001b[0m     \u001b[38;5;28;01mreturn\u001b[39;00m \u001b[38;5;28;43mself\u001b[39;49m\u001b[38;5;241;43m.\u001b[39;49m\u001b[43m_decision_function\u001b[49m\u001b[43m(\u001b[49m\u001b[43mX\u001b[49m\u001b[43m)\u001b[49m\n",
      "File \u001b[1;32me:\\Coding\\ML COURSE\\code\\venv\\lib\\site-packages\\sklearn\\linear_model\\_base.py:285\u001b[0m, in \u001b[0;36mLinearModel._decision_function\u001b[1;34m(self, X)\u001b[0m\n\u001b[0;32m    282\u001b[0m \u001b[38;5;28;01mdef\u001b[39;00m \u001b[38;5;21m_decision_function\u001b[39m(\u001b[38;5;28mself\u001b[39m, X):\n\u001b[0;32m    283\u001b[0m     check_is_fitted(\u001b[38;5;28mself\u001b[39m)\n\u001b[1;32m--> 285\u001b[0m     X \u001b[38;5;241m=\u001b[39m \u001b[38;5;28;43mself\u001b[39;49m\u001b[38;5;241;43m.\u001b[39;49m\u001b[43m_validate_data\u001b[49m\u001b[43m(\u001b[49m\u001b[43mX\u001b[49m\u001b[43m,\u001b[49m\u001b[43m \u001b[49m\u001b[43maccept_sparse\u001b[49m\u001b[38;5;241;43m=\u001b[39;49m\u001b[43m[\u001b[49m\u001b[38;5;124;43m\"\u001b[39;49m\u001b[38;5;124;43mcsr\u001b[39;49m\u001b[38;5;124;43m\"\u001b[39;49m\u001b[43m,\u001b[49m\u001b[43m \u001b[49m\u001b[38;5;124;43m\"\u001b[39;49m\u001b[38;5;124;43mcsc\u001b[39;49m\u001b[38;5;124;43m\"\u001b[39;49m\u001b[43m,\u001b[49m\u001b[43m \u001b[49m\u001b[38;5;124;43m\"\u001b[39;49m\u001b[38;5;124;43mcoo\u001b[39;49m\u001b[38;5;124;43m\"\u001b[39;49m\u001b[43m]\u001b[49m\u001b[43m,\u001b[49m\u001b[43m \u001b[49m\u001b[43mreset\u001b[49m\u001b[38;5;241;43m=\u001b[39;49m\u001b[38;5;28;43;01mFalse\u001b[39;49;00m\u001b[43m)\u001b[49m\n\u001b[0;32m    286\u001b[0m     coef_ \u001b[38;5;241m=\u001b[39m \u001b[38;5;28mself\u001b[39m\u001b[38;5;241m.\u001b[39mcoef_\n\u001b[0;32m    287\u001b[0m     \u001b[38;5;28;01mif\u001b[39;00m coef_\u001b[38;5;241m.\u001b[39mndim \u001b[38;5;241m==\u001b[39m \u001b[38;5;241m1\u001b[39m:\n",
      "File \u001b[1;32me:\\Coding\\ML COURSE\\code\\venv\\lib\\site-packages\\sklearn\\base.py:654\u001b[0m, in \u001b[0;36mBaseEstimator._validate_data\u001b[1;34m(self, X, y, reset, validate_separately, cast_to_ndarray, **check_params)\u001b[0m\n\u001b[0;32m    651\u001b[0m     out \u001b[38;5;241m=\u001b[39m X, y\n\u001b[0;32m    653\u001b[0m \u001b[38;5;28;01mif\u001b[39;00m \u001b[38;5;129;01mnot\u001b[39;00m no_val_X \u001b[38;5;129;01mand\u001b[39;00m check_params\u001b[38;5;241m.\u001b[39mget(\u001b[38;5;124m\"\u001b[39m\u001b[38;5;124mensure_2d\u001b[39m\u001b[38;5;124m\"\u001b[39m, \u001b[38;5;28;01mTrue\u001b[39;00m):\n\u001b[1;32m--> 654\u001b[0m     \u001b[38;5;28;43mself\u001b[39;49m\u001b[38;5;241;43m.\u001b[39;49m\u001b[43m_check_n_features\u001b[49m\u001b[43m(\u001b[49m\u001b[43mX\u001b[49m\u001b[43m,\u001b[49m\u001b[43m \u001b[49m\u001b[43mreset\u001b[49m\u001b[38;5;241;43m=\u001b[39;49m\u001b[43mreset\u001b[49m\u001b[43m)\u001b[49m\n\u001b[0;32m    656\u001b[0m \u001b[38;5;28;01mreturn\u001b[39;00m out\n",
      "File \u001b[1;32me:\\Coding\\ML COURSE\\code\\venv\\lib\\site-packages\\sklearn\\base.py:443\u001b[0m, in \u001b[0;36mBaseEstimator._check_n_features\u001b[1;34m(self, X, reset)\u001b[0m\n\u001b[0;32m    440\u001b[0m     \u001b[38;5;28;01mreturn\u001b[39;00m\n\u001b[0;32m    442\u001b[0m \u001b[38;5;28;01mif\u001b[39;00m n_features \u001b[38;5;241m!=\u001b[39m \u001b[38;5;28mself\u001b[39m\u001b[38;5;241m.\u001b[39mn_features_in_:\n\u001b[1;32m--> 443\u001b[0m     \u001b[38;5;28;01mraise\u001b[39;00m \u001b[38;5;167;01mValueError\u001b[39;00m(\n\u001b[0;32m    444\u001b[0m         \u001b[38;5;124mf\u001b[39m\u001b[38;5;124m\"\u001b[39m\u001b[38;5;124mX has \u001b[39m\u001b[38;5;132;01m{\u001b[39;00mn_features\u001b[38;5;132;01m}\u001b[39;00m\u001b[38;5;124m features, but \u001b[39m\u001b[38;5;132;01m{\u001b[39;00m\u001b[38;5;28mself\u001b[39m\u001b[38;5;241m.\u001b[39m\u001b[38;5;18m__class__\u001b[39m\u001b[38;5;241m.\u001b[39m\u001b[38;5;18m__name__\u001b[39m\u001b[38;5;132;01m}\u001b[39;00m\u001b[38;5;124m \u001b[39m\u001b[38;5;124m\"\u001b[39m\n\u001b[0;32m    445\u001b[0m         \u001b[38;5;124mf\u001b[39m\u001b[38;5;124m\"\u001b[39m\u001b[38;5;124mis expecting \u001b[39m\u001b[38;5;132;01m{\u001b[39;00m\u001b[38;5;28mself\u001b[39m\u001b[38;5;241m.\u001b[39mn_features_in_\u001b[38;5;132;01m}\u001b[39;00m\u001b[38;5;124m features as input.\u001b[39m\u001b[38;5;124m\"\u001b[39m\n\u001b[0;32m    446\u001b[0m     )\n",
      "\u001b[1;31mValueError\u001b[0m: X has 1 features, but LinearRegression is expecting 3 features as input."
     ]
    }
   ],
   "source": [
    "plt.scatter(X_test, regression.predict(X_train_poly))\n",
    "plt.scatter(X_train, y_train)"
   ]
  }
 ],
 "metadata": {
  "kernelspec": {
   "display_name": "Python 3",
   "language": "python",
   "name": "python3"
  },
  "language_info": {
   "codemirror_mode": {
    "name": "ipython",
    "version": 3
   },
   "file_extension": ".py",
   "mimetype": "text/x-python",
   "name": "python",
   "nbconvert_exporter": "python",
   "pygments_lexer": "ipython3",
   "version": "3.10.0"
  }
 },
 "nbformat": 4,
 "nbformat_minor": 2
}
